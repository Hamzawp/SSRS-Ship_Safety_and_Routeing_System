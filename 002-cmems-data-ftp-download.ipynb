{
 "cells": [
  {
   "cell_type": "code",
   "execution_count": 1,
   "metadata": {},
   "outputs": [
    {
     "name": "stdout",
     "output_type": "stream",
     "text": [
      "Requirement already satisfied: copernicusmarine in c:\\users\\om shete\\appdata\\local\\programs\\python\\python311\\lib\\site-packages (1.3.3)\n",
      "Requirement already satisfied: aiohttp<3.10.0,>=3.9.4 in c:\\users\\om shete\\appdata\\local\\programs\\python\\python311\\lib\\site-packages (from copernicusmarine) (3.9.4)\n",
      "Requirement already satisfied: boto3>=1.25 in c:\\users\\om shete\\appdata\\local\\programs\\python\\python311\\lib\\site-packages (from copernicusmarine) (1.35.14)\n",
      "Requirement already satisfied: cachier>=2.2.1 in c:\\users\\om shete\\appdata\\local\\programs\\python\\python311\\lib\\site-packages (from copernicusmarine) (3.0.1)\n",
      "Requirement already satisfied: click>=8.0.4 in c:\\users\\om shete\\appdata\\local\\programs\\python\\python311\\lib\\site-packages (from copernicusmarine) (8.1.7)\n",
      "Requirement already satisfied: dask>=2022 in c:\\users\\om shete\\appdata\\local\\programs\\python\\python311\\lib\\site-packages (from copernicusmarine) (2024.8.2)\n",
      "Requirement already satisfied: lxml>=4.9.0 in c:\\users\\om shete\\appdata\\local\\programs\\python\\python311\\lib\\site-packages (from copernicusmarine) (5.3.0)\n",
      "Requirement already satisfied: nest-asyncio>=1.5.8 in c:\\users\\om shete\\appdata\\roaming\\python\\python311\\site-packages (from copernicusmarine) (1.6.0)\n",
      "Requirement already satisfied: netCDF4>=1.5.4 in c:\\users\\om shete\\appdata\\local\\programs\\python\\python311\\lib\\site-packages (from copernicusmarine) (1.7.1.post2)\n",
      "Requirement already satisfied: numpy<2.0.0,>=1.23.0 in c:\\users\\om shete\\appdata\\local\\programs\\python\\python311\\lib\\site-packages (from copernicusmarine) (1.24.3)\n",
      "Requirement already satisfied: pystac>=1.8.3 in c:\\users\\om shete\\appdata\\local\\programs\\python\\python311\\lib\\site-packages (from copernicusmarine) (1.10.1)\n",
      "Requirement already satisfied: requests>=2.27.1 in c:\\users\\om shete\\appdata\\local\\programs\\python\\python311\\lib\\site-packages (from copernicusmarine) (2.31.0)\n",
      "Requirement already satisfied: semver>=3.0.2 in c:\\users\\om shete\\appdata\\local\\programs\\python\\python311\\lib\\site-packages (from copernicusmarine) (3.0.2)\n",
      "Requirement already satisfied: setuptools>=68.2.2 in c:\\users\\om shete\\appdata\\local\\programs\\python\\python311\\lib\\site-packages (from copernicusmarine) (69.1.1)\n",
      "Requirement already satisfied: tqdm>=4.65.0 in c:\\users\\om shete\\appdata\\local\\programs\\python\\python311\\lib\\site-packages (from copernicusmarine) (4.66.1)\n",
      "Requirement already satisfied: xarray>=2023.4.0 in c:\\users\\om shete\\appdata\\local\\programs\\python\\python311\\lib\\site-packages (from copernicusmarine) (2024.7.0)\n",
      "Requirement already satisfied: zarr>=2.13.3 in c:\\users\\om shete\\appdata\\local\\programs\\python\\python311\\lib\\site-packages (from copernicusmarine) (2.18.3)\n",
      "Requirement already satisfied: aiosignal>=1.1.2 in c:\\users\\om shete\\appdata\\local\\programs\\python\\python311\\lib\\site-packages (from aiohttp<3.10.0,>=3.9.4->copernicusmarine) (1.3.1)\n",
      "Requirement already satisfied: attrs>=17.3.0 in c:\\users\\om shete\\appdata\\local\\programs\\python\\python311\\lib\\site-packages (from aiohttp<3.10.0,>=3.9.4->copernicusmarine) (23.2.0)\n",
      "Requirement already satisfied: frozenlist>=1.1.1 in c:\\users\\om shete\\appdata\\local\\programs\\python\\python311\\lib\\site-packages (from aiohttp<3.10.0,>=3.9.4->copernicusmarine) (1.4.1)\n",
      "Requirement already satisfied: multidict<7.0,>=4.5 in c:\\users\\om shete\\appdata\\local\\programs\\python\\python311\\lib\\site-packages (from aiohttp<3.10.0,>=3.9.4->copernicusmarine) (6.0.5)\n",
      "Requirement already satisfied: yarl<2.0,>=1.0 in c:\\users\\om shete\\appdata\\local\\programs\\python\\python311\\lib\\site-packages (from aiohttp<3.10.0,>=3.9.4->copernicusmarine) (1.9.4)\n",
      "Requirement already satisfied: botocore<1.36.0,>=1.35.14 in c:\\users\\om shete\\appdata\\local\\programs\\python\\python311\\lib\\site-packages (from boto3>=1.25->copernicusmarine) (1.35.14)\n",
      "Requirement already satisfied: jmespath<2.0.0,>=0.7.1 in c:\\users\\om shete\\appdata\\local\\programs\\python\\python311\\lib\\site-packages (from boto3>=1.25->copernicusmarine) (1.0.1)\n",
      "Requirement already satisfied: s3transfer<0.11.0,>=0.10.0 in c:\\users\\om shete\\appdata\\local\\programs\\python\\python311\\lib\\site-packages (from boto3>=1.25->copernicusmarine) (0.10.2)\n",
      "Requirement already satisfied: portalocker>=2.3.2 in c:\\users\\om shete\\appdata\\local\\programs\\python\\python311\\lib\\site-packages (from cachier>=2.2.1->copernicusmarine) (2.10.1)\n",
      "Requirement already satisfied: watchdog>=2.3.1 in c:\\users\\om shete\\appdata\\local\\programs\\python\\python311\\lib\\site-packages (from cachier>=2.2.1->copernicusmarine) (5.0.2)\n",
      "Requirement already satisfied: colorama in c:\\users\\om shete\\appdata\\local\\programs\\python\\python311\\lib\\site-packages (from click>=8.0.4->copernicusmarine) (0.4.6)\n",
      "Requirement already satisfied: cloudpickle>=3.0.0 in c:\\users\\om shete\\appdata\\local\\programs\\python\\python311\\lib\\site-packages (from dask>=2022->copernicusmarine) (3.0.0)\n",
      "Requirement already satisfied: fsspec>=2021.09.0 in c:\\users\\om shete\\appdata\\local\\programs\\python\\python311\\lib\\site-packages (from dask>=2022->copernicusmarine) (2024.2.0)\n",
      "Requirement already satisfied: packaging>=20.0 in c:\\users\\om shete\\appdata\\local\\programs\\python\\python311\\lib\\site-packages (from dask>=2022->copernicusmarine) (23.1)\n",
      "Requirement already satisfied: partd>=1.4.0 in c:\\users\\om shete\\appdata\\local\\programs\\python\\python311\\lib\\site-packages (from dask>=2022->copernicusmarine) (1.4.2)\n",
      "Requirement already satisfied: pyyaml>=5.3.1 in c:\\users\\om shete\\appdata\\local\\programs\\python\\python311\\lib\\site-packages (from dask>=2022->copernicusmarine) (6.0.1)\n",
      "Requirement already satisfied: toolz>=0.10.0 in c:\\users\\om shete\\appdata\\local\\programs\\python\\python311\\lib\\site-packages (from dask>=2022->copernicusmarine) (0.12.1)\n",
      "Requirement already satisfied: importlib-metadata>=4.13.0 in c:\\users\\om shete\\appdata\\local\\programs\\python\\python311\\lib\\site-packages (from dask>=2022->copernicusmarine) (8.4.0)\n",
      "Requirement already satisfied: cftime in c:\\users\\om shete\\appdata\\local\\programs\\python\\python311\\lib\\site-packages (from netCDF4>=1.5.4->copernicusmarine) (1.6.4)\n",
      "Requirement already satisfied: certifi in c:\\users\\om shete\\appdata\\local\\programs\\python\\python311\\lib\\site-packages (from netCDF4>=1.5.4->copernicusmarine) (2023.7.22)\n",
      "Requirement already satisfied: python-dateutil>=2.7.0 in c:\\users\\om shete\\appdata\\local\\programs\\python\\python311\\lib\\site-packages (from pystac>=1.8.3->copernicusmarine) (2.8.2)\n",
      "Requirement already satisfied: charset-normalizer<4,>=2 in c:\\users\\om shete\\appdata\\local\\programs\\python\\python311\\lib\\site-packages (from requests>=2.27.1->copernicusmarine) (3.2.0)\n",
      "Requirement already satisfied: idna<4,>=2.5 in c:\\users\\om shete\\appdata\\local\\programs\\python\\python311\\lib\\site-packages (from requests>=2.27.1->copernicusmarine) (3.4)\n",
      "Requirement already satisfied: urllib3<3,>=1.21.1 in c:\\users\\om shete\\appdata\\local\\programs\\python\\python311\\lib\\site-packages (from requests>=2.27.1->copernicusmarine) (1.26.16)\n",
      "Requirement already satisfied: pandas>=2.0 in c:\\users\\om shete\\appdata\\local\\programs\\python\\python311\\lib\\site-packages (from xarray>=2023.4.0->copernicusmarine) (2.2.2)\n",
      "Requirement already satisfied: asciitree in c:\\users\\om shete\\appdata\\local\\programs\\python\\python311\\lib\\site-packages (from zarr>=2.13.3->copernicusmarine) (0.3.3)\n",
      "Requirement already satisfied: numcodecs>=0.10.0 in c:\\users\\om shete\\appdata\\local\\programs\\python\\python311\\lib\\site-packages (from zarr>=2.13.3->copernicusmarine) (0.13.0)\n",
      "Requirement already satisfied: fasteners in c:\\users\\om shete\\appdata\\local\\programs\\python\\python311\\lib\\site-packages (from zarr>=2.13.3->copernicusmarine) (0.19)\n",
      "Requirement already satisfied: zipp>=0.5 in c:\\users\\om shete\\appdata\\local\\programs\\python\\python311\\lib\\site-packages (from importlib-metadata>=4.13.0->dask>=2022->copernicusmarine) (3.20.1)\n",
      "Requirement already satisfied: pytz>=2020.1 in c:\\users\\om shete\\appdata\\local\\programs\\python\\python311\\lib\\site-packages (from pandas>=2.0->xarray>=2023.4.0->copernicusmarine) (2023.3.post1)\n",
      "Requirement already satisfied: tzdata>=2022.7 in c:\\users\\om shete\\appdata\\local\\programs\\python\\python311\\lib\\site-packages (from pandas>=2.0->xarray>=2023.4.0->copernicusmarine) (2023.3)\n",
      "Requirement already satisfied: locket in c:\\users\\om shete\\appdata\\local\\programs\\python\\python311\\lib\\site-packages (from partd>=1.4.0->dask>=2022->copernicusmarine) (1.0.0)\n",
      "Requirement already satisfied: pywin32>=226 in c:\\users\\om shete\\appdata\\roaming\\python\\python311\\site-packages (from portalocker>=2.3.2->cachier>=2.2.1->copernicusmarine) (306)\n",
      "Requirement already satisfied: six>=1.5 in c:\\users\\om shete\\appdata\\local\\programs\\python\\python311\\lib\\site-packages (from python-dateutil>=2.7.0->pystac>=1.8.3->copernicusmarine) (1.16.0)\n",
      "Note: you may need to restart the kernel to use updated packages.\n"
     ]
    },
    {
     "name": "stderr",
     "output_type": "stream",
     "text": [
      "\n",
      "[notice] A new release of pip is available: 23.3.1 -> 24.2\n",
      "[notice] To update, run: python.exe -m pip install --upgrade pip\n"
     ]
    }
   ],
   "source": [
    "%pip install copernicusmarine"
   ]
  },
  {
   "cell_type": "code",
   "execution_count": 2,
   "metadata": {},
   "outputs": [],
   "source": [
    "import ftplib # https://docs.python.org/3/library/ftplib.html\n",
    "import os\n",
    "import credentials\n",
    "import copernicusmarine\n",
    "from pprint import pprint"
   ]
  },
  {
   "cell_type": "code",
   "execution_count": 3,
   "metadata": {},
   "outputs": [
    {
     "name": "stdout",
     "output_type": "stream",
     "text": [
      "username:password:"
     ]
    },
    {
     "name": "stderr",
     "output_type": "stream",
     "text": [
      "Fetching catalog: 100%|██████████| 3/3 [00:35<00:00, 11.71s/it]\n",
      "INFO - 2024-09-13T08:10:52Z - Dataset version was not specified, the latest one was selected: \"202311\"\n",
      "INFO - 2024-09-13T08:10:52Z - Dataset part was not specified, the first one was selected: \"default\"\n",
      "INFO - 2024-09-13T08:10:52Z - Service was not specified, the default one was selected: \"original-files\"\n",
      "INFO - 2024-09-13T08:10:52Z - Downloading using service original-files...\n",
      "INFO - 2024-09-13T08:10:56Z - You requested the download of the following files:\n",
      "s3://mdl-native-14/native/GLOBAL_ANALYSISFORECAST_WAV_001_027/cmems_mod_glo_wav_anfc_0.083deg_PT3H-i_202311/2024/08/mfwamglocep_2024082000_R20240821_00H.nc - 314.70 MB - 2024-08-21T08:50:45Z\n",
      "s3://mdl-native-14/native/GLOBAL_ANALYSISFORECAST_WAV_001_027/cmems_mod_glo_wav_anfc_0.083deg_PT3H-i_202311/2024/08/mfwamglocep_2024082012_R20240821_12H.nc - 314.79 MB - 2024-08-21T20:25:17Z\n",
      "s3://mdl-native-14/native/GLOBAL_ANALYSISFORECAST_WAV_001_027/cmems_mod_glo_wav_anfc_0.083deg_PT3H-i_202311/2024/08/mfwamglocep_2024082100_R20240822_00H.nc - 315.61 MB - 2024-08-22T08:51:09Z\n",
      "s3://mdl-native-14/native/GLOBAL_ANALYSISFORECAST_WAV_001_027/cmems_mod_glo_wav_anfc_0.083deg_PT3H-i_202311/2024/08/mfwamglocep_2024082112_R20240822_12H.nc - 316.14 MB - 2024-08-22T20:24:47Z\n",
      "\n",
      "Total size of the download: 1.26 GB\n",
      "\n",
      "\n",
      "100%|██████████| 4/4 [06:35<00:00, 98.76s/it] \n"
     ]
    },
    {
     "name": "stdout",
     "output_type": "stream",
     "text": [
      "('List of downloaded files for cmems_mod_glo_wav_anfc_0.083deg_PT3H-i: \\n'\n",
      " \"[WindowsPath('data/GLOBAL_ANALYSISFORECAST_WAV_001_027/cmems_mod_glo_wav_anfc_0.083deg_PT3H-i_202311/2024/08/mfwamglocep_2024082000_R20240821_00H.nc'), \"\n",
      " \"WindowsPath('data/GLOBAL_ANALYSISFORECAST_WAV_001_027/cmems_mod_glo_wav_anfc_0.083deg_PT3H-i_202311/2024/08/mfwamglocep_2024082012_R20240821_12H.nc'), \"\n",
      " \"WindowsPath('data/GLOBAL_ANALYSISFORECAST_WAV_001_027/cmems_mod_glo_wav_anfc_0.083deg_PT3H-i_202311/2024/08/mfwamglocep_2024082100_R20240822_00H.nc'), \"\n",
      " \"WindowsPath('data/GLOBAL_ANALYSISFORECAST_WAV_001_027/cmems_mod_glo_wav_anfc_0.083deg_PT3H-i_202311/2024/08/mfwamglocep_2024082112_R20240822_12H.nc')]\")\n",
      "username:password:"
     ]
    },
    {
     "name": "stderr",
     "output_type": "stream",
     "text": [
      "INFO - 2024-09-13T08:23:50Z - Dataset version was not specified, the latest one was selected: \"202406\"\n",
      "INFO - 2024-09-13T08:23:50Z - Dataset part was not specified, the first one was selected: \"default\"\n",
      "INFO - 2024-09-13T08:23:50Z - Service was not specified, the default one was selected: \"original-files\"\n",
      "INFO - 2024-09-13T08:23:50Z - Downloading using service original-files...\n",
      "INFO - 2024-09-13T08:23:53Z - You requested the download of the following files:\n",
      "s3://mdl-native-14/native/GLOBAL_ANALYSISFORECAST_PHY_001_024/cmems_mod_glo_phy-cur_anfc_0.083deg_P1D-m_202406/2024/08/glo12_rg_1d-m_20240820-20240820_3D-uovo_hcst_R20240828.nc - 1.94 GB - 2024-08-27T01:33:38Z\n",
      "s3://mdl-native-14/native/GLOBAL_ANALYSISFORECAST_PHY_001_024/cmems_mod_glo_phy-cur_anfc_0.083deg_P1D-m_202406/2024/08/glo12_rg_1d-m_20240821-20240821_3D-uovo_hcst_R20240904.nc - 1.94 GB - 2024-09-03T01:33:17Z\n",
      "\n",
      "Total size of the download: 3.88 GB\n",
      "\n",
      "\n",
      "100%|██████████| 2/2 [18:47<00:00, 563.67s/it] "
     ]
    },
    {
     "name": "stdout",
     "output_type": "stream",
     "text": [
      "('List of downloaded files for cmems_mod_glo_phy-cur_anfc_0.083deg_P1D-m: \\n'\n",
      " \"[WindowsPath('data/GLOBAL_ANALYSISFORECAST_PHY_001_024/cmems_mod_glo_phy-cur_anfc_0.083deg_P1D-m_202406/2024/08/glo12_rg_1d-m_20240820-20240820_3D-uovo_hcst_R20240828.nc'), \"\n",
      " \"WindowsPath('data/GLOBAL_ANALYSISFORECAST_PHY_001_024/cmems_mod_glo_phy-cur_anfc_0.083deg_P1D-m_202406/2024/08/glo12_rg_1d-m_20240821-20240821_3D-uovo_hcst_R20240904.nc')]\")\n"
     ]
    },
    {
     "name": "stderr",
     "output_type": "stream",
     "text": [
      "\n"
     ]
    }
   ],
   "source": [
    "# DatasetIDs of interest\n",
    "dataset_ids = [\n",
    "    \"cmems_mod_glo_wav_anfc_0.083deg_PT3H-i\",\n",
    "    \"cmems_mod_glo_phy-cur_anfc_0.083deg_P1D-m\"\n",
    "]\n",
    "\n",
    "# Date range filter:\n",
    "date_range = \"*/2024/08/*_2024082[0-1]*.nc\"\n",
    "\n",
    "# Define output storage parameters\n",
    "output_directory = \"./data/\"\n",
    "\n",
    "# Call the get function for each dataset to save files for the date range \n",
    "for dataset_id in dataset_ids:\n",
    "    get_files = copernicusmarine.get(\n",
    "        dataset_id=dataset_id,\n",
    "        output_directory=output_directory,\n",
    "        filter=date_range\n",
    "    )\n",
    "\n",
    "    pprint(f\"List of downloaded files for {dataset_id}: \\n{get_files}\")\n"
   ]
  },
  {
   "cell_type": "code",
   "execution_count": 6,
   "metadata": {},
   "outputs": [
    {
     "name": "stdout",
     "output_type": "stream",
     "text": [
      "Done\n"
     ]
    }
   ],
   "source": [
    "print(\"Done\")"
   ]
  },
  {
   "cell_type": "code",
   "execution_count": null,
   "metadata": {},
   "outputs": [],
   "source": []
  }
 ],
 "metadata": {
  "kernelspec": {
   "display_name": "Python 3 (ipykernel)",
   "language": "python",
   "name": "python3"
  },
  "language_info": {
   "codemirror_mode": {
    "name": "ipython",
    "version": 3
   },
   "file_extension": ".py",
   "mimetype": "text/x-python",
   "name": "python",
   "nbconvert_exporter": "python",
   "pygments_lexer": "ipython3",
   "version": "3.11.5"
  }
 },
 "nbformat": 4,
 "nbformat_minor": 4
}
